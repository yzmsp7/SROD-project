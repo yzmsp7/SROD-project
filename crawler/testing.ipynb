{
 "cells": [
  {
   "cell_type": "code",
   "execution_count": 1,
   "metadata": {},
   "outputs": [],
   "source": [
    "import re\n",
    "import time\n",
    "import json\n",
    "import pandas as pd\n",
    "import requests\n",
    "from bs4 import BeautifulSoup"
   ]
  },
  {
   "cell_type": "code",
   "execution_count": 8,
   "metadata": {},
   "outputs": [],
   "source": [
    "CHINA_TIMES_URL = 'https://www.chinatimes.com'\n",
    "example_article_url = '20200324002561-260407'"
   ]
  },
  {
   "cell_type": "code",
   "execution_count": 3,
   "metadata": {},
   "outputs": [
    {
     "data": {
      "text/plain": [
       "'\\nTesting for json format of articles is correct.\\n'"
      ]
     },
     "execution_count": 3,
     "metadata": {},
     "output_type": "execute_result"
    },
    {
     "name": "stdout",
     "output_type": "stream",
     "text": [
      "台北最新民調出爐，台北市長柯文哲的支持度為34.1%，而國民黨提名的台北市長候選人丁守中則為31.1%，兩人差距僅剩2.7%，已進入五五波焦土戰！據今日《蘋果日報》報導，「2018台北市長選舉調查」的民調結果顯示，柯文哲的支持度為34.1％，而丁守中為31.4%，民進黨候選人姚文智的支持度只有7.1%。柯文哲和丁守中差距僅剩2.7%。相較《蘋果》在9月份的調查，柯文哲支持度34.9%、丁守中30.8%。柯文哲與丁守中兩人差距從4.1%縮小至2.7%台北最新民調出爐，台北市長柯文哲的支持度為34.1%，而國民黨提名的台北市長候選人丁守中則為31.1%，兩人差距僅剩2.7%，已進入五五波焦土戰！據今日《蘋果日報》報導，「2018台北市長選舉調查」的民調結果顯示，柯文哲的支持度為34.1％，而丁守中為31.4%，民進黨候選人姚文智的支持度只有7.1%。柯文哲和丁守中差距僅剩2.7%。相較《蘋果》在9月份的調查，柯文哲支持度34.9%、丁守中30.8%。柯文哲與丁守中兩人差距從4.1%縮小至2.7%，已在誤差範圍內。這次調查是《蘋果日報》委託世新大學執行，調查時間為2018年11月6日到7日，以電話訪問設籍台北年滿20歲以上民眾，成功樣本數1094份，在95%信心水準下，抽樣誤差不超過±2.97%，\n",
      "台北》台北民調出爐&#x3000;丁守中支持度真的嚇死人！\n",
      "2018-11-09T10:41:02+08:00\n"
     ]
    }
   ],
   "source": [
    "# Testing for json format of articles is correct.\n",
    "\n",
    "resp = requests.get('https://www.chinatimes.com/realtimenews/20181109001640-260407')\n",
    "soup = BeautifulSoup(resp.text, 'html.parser')\n",
    "d = json.loads(soup.find_all('script')[0].text)\n",
    "print(d['description'])\n",
    "print(d['headline'])\n",
    "print(d['datePublished'])"
   ]
  },
  {
   "cell_type": "code",
   "execution_count": null,
   "metadata": {},
   "outputs": [],
   "source": [
    "# Testing for a list of articles is correct.\n",
    "\n",
    "resp = requests.get(CHINA_TIMES_URL + '/' + 'politic' + '/total?page=' + str(1))\n",
    "soup = BeautifulSoup(resp.text, 'html.parser')\n",
    "cols = soup.find_all('div', 'col')\n",
    "\n",
    "for col in cols: \n",
    "#    print('Title: ', col.h3.text)\n",
    "#    print('Datetime: ', col.find('time')['datetime'])\n",
    "#    print('url: ', CHINA_TIMES_URL + col.find('a')['href'])\n",
    "    \n",
    "#    article_id = col.find('a')['href'].split('/')[2].split('-')[0]\n",
    "#    print(article_id)\n",
    "\n",
    "    url = CHINA_TIMES_URL + col.find('a')['href']\n",
    "    print(url)\n",
    "    \n",
    "    resp2 = requests.get(url)\n",
    "    soup2 = BeautifulSoup(resp2.text, 'html.parser')\n",
    "    \n",
    "    content_json = json.loads(soup2.find_all('script')[0].text)\n",
    "\n",
    "    print(content_json['description'])\n"
   ]
  },
  {
   "cell_type": "markdown",
   "metadata": {},
   "source": [
    "### 測試URL是否存在\n",
    "\n",
    "https://idobest.pixnet.net/blog/post/22049595"
   ]
  },
  {
   "cell_type": "code",
   "execution_count": 6,
   "metadata": {},
   "outputs": [],
   "source": [
    "import requests\n",
    "from requests.exceptions import ConnectionError\n",
    "\n",
    "def isConnection(url):\n",
    "    try:\n",
    "        request = requests.get(url)\n",
    "    except ConnectionError:\n",
    "        print('Web site does not exist')\n",
    "        return False\n",
    "    else:\n",
    "        print('Web site exists')\n",
    "        return True"
   ]
  },
  {
   "cell_type": "code",
   "execution_count": null,
   "metadata": {},
   "outputs": [],
   "source": [
    "for i in range(100, 9999):\n",
    "    if i < 1000:\n",
    "#        try:\n",
    "            boo = isConnection(CHINA_TIMES_URL+'/realtimenews/20181109000'+str(i)+'-260407')\n",
    "#            soup = BeautifulSoup(resp, 'html.parser')\n",
    "#            print('Success url: ', CHINA_TIMES_URL+'/realtimenews/20181109000'+str(i)+'-260407')\n",
    "#        except:\n",
    "#            print('Page not found!')\n",
    "    else:\n",
    "#        try:\n",
    "            boo = isConnection(CHINA_TIMES_URL+'/realtimenews/2018110900'+str(i)+'-260407')\n",
    "#            soup = BeautifulSoup(resp, 'html.parser')\n",
    "#            print('Success url: ', CHINA_TIMES_URL+'/realtimenews/2018110900'+str(i)+'-260407')\n",
    "#        except:\n",
    "#            print('Page not found!')"
   ]
  },
  {
   "cell_type": "code",
   "execution_count": null,
   "metadata": {},
   "outputs": [],
   "source": [
    "def isPalindrome(s):\n",
    "    \"\"\"\n",
    "    :type s: str\n",
    "    :rtype: bool\n",
    "    \"\"\"\n",
    "    "
   ]
  },
  {
   "cell_type": "code",
   "execution_count": 2,
   "metadata": {},
   "outputs": [],
   "source": [
    "s = \"A man, a plan, a canal: Panama\""
   ]
  },
  {
   "cell_type": "code",
   "execution_count": 13,
   "metadata": {},
   "outputs": [
    {
     "data": {
      "text/plain": [
       "[True,\n",
       " False,\n",
       " True,\n",
       " True,\n",
       " True,\n",
       " False,\n",
       " False,\n",
       " True,\n",
       " False,\n",
       " True,\n",
       " True,\n",
       " True,\n",
       " True,\n",
       " False,\n",
       " False,\n",
       " True,\n",
       " False,\n",
       " True,\n",
       " True,\n",
       " True,\n",
       " True,\n",
       " True,\n",
       " False,\n",
       " False,\n",
       " True,\n",
       " True,\n",
       " True,\n",
       " True,\n",
       " True,\n",
       " True]"
      ]
     },
     "execution_count": 13,
     "metadata": {},
     "output_type": "execute_result"
    }
   ],
   "source": [
    "ns=''\n",
    "for s,i in enumerate(s):\n",
    "    if s.isalnum"
   ]
  },
  {
   "cell_type": "code",
   "execution_count": 6,
   "metadata": {},
   "outputs": [
    {
     "data": {
      "text/plain": [
       "'A'"
      ]
     },
     "execution_count": 6,
     "metadata": {},
     "output_type": "execute_result"
    }
   ],
   "source": [
    "s[]"
   ]
  },
  {
   "cell_type": "code",
   "execution_count": null,
   "metadata": {},
   "outputs": [],
   "source": []
  }
 ],
 "metadata": {
  "kernelspec": {
   "display_name": "Python 3",
   "language": "python",
   "name": "python3"
  },
  "language_info": {
   "codemirror_mode": {
    "name": "ipython",
    "version": 3
   },
   "file_extension": ".py",
   "mimetype": "text/x-python",
   "name": "python",
   "nbconvert_exporter": "python",
   "pygments_lexer": "ipython3",
   "version": "3.7.3"
  }
 },
 "nbformat": 4,
 "nbformat_minor": 4
}
