{
 "cells": [
  {
   "cell_type": "markdown",
   "metadata": {},
   "source": [
    "### 中時電子報爬蟲\n",
    "\n",
    "爬 `<script>` 的json-ld內容，即有文章"
   ]
  },
  {
   "cell_type": "code",
   "execution_count": 2,
   "metadata": {},
   "outputs": [],
   "source": [
    "import re\n",
    "import time\n",
    "import json\n",
    "import pandas as pd\n",
    "import requests\n",
    "from bs4 import BeautifulSoup"
   ]
  },
  {
   "cell_type": "code",
   "execution_count": 3,
   "metadata": {},
   "outputs": [],
   "source": [
    "CHINA_TIMES_URL = 'https://www.chinatimes.com'\n",
    "example_article_url = '20200324002561-260407'"
   ]
  },
  {
   "cell_type": "code",
   "execution_count": 4,
   "metadata": {},
   "outputs": [],
   "source": [
    "def get_content(soup): \n",
    "    web_script = soup.find_all('script')[0].text\n",
    "    content_json = json.loads(web_script)\n",
    "    \n",
    "    return content_json['description']"
   ]
  },
  {
   "cell_type": "code",
   "execution_count": 5,
   "metadata": {},
   "outputs": [],
   "source": [
    "def get_keywords(soup):\n",
    "    web_script = soup.find_all('script')[0].text\n",
    "    content_json = json.loads(web_script)\n",
    "    \n",
    "    return content_json['keywords']"
   ]
  },
  {
   "cell_type": "code",
   "execution_count": null,
   "metadata": {},
   "outputs": [],
   "source": [
    "soup"
   ]
  },
  {
   "cell_type": "code",
   "execution_count": 6,
   "metadata": {},
   "outputs": [],
   "source": [
    "# what category news you want\n",
    "CATEGORY = 'politic'\n",
    "\n",
    "# the quantity of pages you wanna crawler\n",
    "num_page = 10\n",
    "\n",
    "# store all attributes of articles\n",
    "all_articles = []\n",
    "\n",
    "for page in range(1, num_page):\n",
    "    \n",
    "    resp = requests.get(CHINA_TIMES_URL + '/' + CATEGORY + '/total?page=' + str(page))\n",
    "    soup = BeautifulSoup(resp.text, 'html.parser')\n",
    "    \n",
    "    # every news contents of div\n",
    "    cols = soup.find_all('div', 'col')\n",
    "\n",
    "    for col in cols: \n",
    "        \n",
    "        title = col.h3.text\n",
    "        datetime = col.find('time')['datetime']\n",
    "        url = CHINA_TIMES_URL + col.find('a')['href']\n",
    "        article_id = url.split('/')[-1].split('-')[0]\n",
    "        \n",
    "        resp_ = requests.get(url)\n",
    "        soup_ = BeautifulSoup(resp_.text, 'html.parser')\n",
    "        content = get_content(soup_)\n",
    "        keywords = get_keywords(soup_)\n",
    "        \n",
    "        data = {\n",
    "            'article_id': article_id,\n",
    "            'title': title,\n",
    "            'datetime': datetime,\n",
    "            'url': url,\n",
    "            'keywords': keywords,\n",
    "            'content': content,\n",
    "        }\n",
    "        all_articles.append(data)\n",
    "        \n",
    "    time.sleep(0.05)"
   ]
  },
  {
   "cell_type": "code",
   "execution_count": 7,
   "metadata": {},
   "outputs": [
    {
     "data": {
      "text/html": [
       "<div>\n",
       "<style scoped>\n",
       "    .dataframe tbody tr th:only-of-type {\n",
       "        vertical-align: middle;\n",
       "    }\n",
       "\n",
       "    .dataframe tbody tr th {\n",
       "        vertical-align: top;\n",
       "    }\n",
       "\n",
       "    .dataframe thead th {\n",
       "        text-align: right;\n",
       "    }\n",
       "</style>\n",
       "<table border=\"1\" class=\"dataframe\">\n",
       "  <thead>\n",
       "    <tr style=\"text-align: right;\">\n",
       "      <th></th>\n",
       "      <th>article_id</th>\n",
       "      <th>title</th>\n",
       "      <th>datetime</th>\n",
       "      <th>url</th>\n",
       "      <th>keywords</th>\n",
       "      <th>content</th>\n",
       "    </tr>\n",
       "  </thead>\n",
       "  <tbody>\n",
       "    <tr>\n",
       "      <th>0</th>\n",
       "      <td>20200325006435</td>\n",
       "      <td>快評》學生受教不能等 不應差別待遇</td>\n",
       "      <td>2020-03-25 23:41</td>\n",
       "      <td>https://www.chinatimes.com/realtimenews/202003...</td>\n",
       "      <td>武漢,包機,武漢台胞,滯留,返台,新冠肺炎,武漢肺炎, COVID-19,台灣,大陸</td>\n",
       "      <td>武漢4月8日即將解禁，滯留武漢台胞希望能夠盡快返台，行政院長蘇貞昌說他們必須包機回來，中央流...</td>\n",
       "    </tr>\n",
       "    <tr>\n",
       "      <th>1</th>\n",
       "      <td>20200325006421</td>\n",
       "      <td>韓當市長後陳致中選區這條路變了 高雄人感嘆</td>\n",
       "      <td>2020-03-25 23:34</td>\n",
       "      <td>https://www.chinatimes.com/realtimenews/202003...</td>\n",
       "      <td>高雄人,陳致中,小港區,四路,沿海</td>\n",
       "      <td>高雄市小港區沿海四路往大林（蒲）電廠道路，位於民進黨高雄市議員陳致中的選區，經過高雄市府重新...</td>\n",
       "    </tr>\n",
       "    <tr>\n",
       "      <th>2</th>\n",
       "      <td>20200325006280</td>\n",
       "      <td>關心防疫 葉毓蘭提醒應注意監所口罩不足問題</td>\n",
       "      <td>2020-03-25 22:56</td>\n",
       "      <td>https://www.chinatimes.com/realtimenews/202003...</td>\n",
       "      <td>口罩,監所,受刑人,葉毓蘭,監獄</td>\n",
       "      <td>新冠肺炎疫情持續沿燒，國民黨立委葉毓蘭關心防疫，今天她在臉書發文，點出監所存有口罩不足問題，...</td>\n",
       "    </tr>\n",
       "    <tr>\n",
       "      <th>3</th>\n",
       "      <td>20200325006339</td>\n",
       "      <td>罷韓後會發生什麼事？年輕人大膽預測結局</td>\n",
       "      <td>2020-03-25 22:41</td>\n",
       "      <td>https://www.chinatimes.com/realtimenews/202003...</td>\n",
       "      <td>韓國瑜,罷免,年輕人,清大博士生</td>\n",
       "      <td>如果高雄市長韓國瑜被罷免之後，會發生甚麼事？也是韓粉的清大博士生何坤軒大膽預測，韓國瑜未來有...</td>\n",
       "    </tr>\n",
       "    <tr>\n",
       "      <th>4</th>\n",
       "      <td>20200325006304</td>\n",
       "      <td>「新海角七億」激怒卓榮泰 蔡正元嘆：幽默感這麼差！</td>\n",
       "      <td>2020-03-25 22:30</td>\n",
       "      <td>https://www.chinatimes.com/realtimenews/202003...</td>\n",
       "      <td>蔡正元,海角七億,卓榮泰,影響,幽默感,肺炎,咳嗽,眼睛,新冠肺炎</td>\n",
       "      <td>民進黨11日中執會上針對2020大選總結指出，這次大選黨部總共支出約7億元，目前仍短絀1億6...</td>\n",
       "    </tr>\n",
       "  </tbody>\n",
       "</table>\n",
       "</div>"
      ],
      "text/plain": [
       "       article_id                      title          datetime  \\\n",
       "0  20200325006435          快評》學生受教不能等 不應差別待遇  2020-03-25 23:41   \n",
       "1  20200325006421      韓當市長後陳致中選區這條路變了 高雄人感嘆  2020-03-25 23:34   \n",
       "2  20200325006280      關心防疫 葉毓蘭提醒應注意監所口罩不足問題  2020-03-25 22:56   \n",
       "3  20200325006339        罷韓後會發生什麼事？年輕人大膽預測結局  2020-03-25 22:41   \n",
       "4  20200325006304  「新海角七億」激怒卓榮泰 蔡正元嘆：幽默感這麼差！  2020-03-25 22:30   \n",
       "\n",
       "                                                 url  \\\n",
       "0  https://www.chinatimes.com/realtimenews/202003...   \n",
       "1  https://www.chinatimes.com/realtimenews/202003...   \n",
       "2  https://www.chinatimes.com/realtimenews/202003...   \n",
       "3  https://www.chinatimes.com/realtimenews/202003...   \n",
       "4  https://www.chinatimes.com/realtimenews/202003...   \n",
       "\n",
       "                                     keywords  \\\n",
       "0  武漢,包機,武漢台胞,滯留,返台,新冠肺炎,武漢肺炎, COVID-19,台灣,大陸   \n",
       "1                           高雄人,陳致中,小港區,四路,沿海   \n",
       "2                            口罩,監所,受刑人,葉毓蘭,監獄   \n",
       "3                            韓國瑜,罷免,年輕人,清大博士生   \n",
       "4           蔡正元,海角七億,卓榮泰,影響,幽默感,肺炎,咳嗽,眼睛,新冠肺炎   \n",
       "\n",
       "                                             content  \n",
       "0  武漢4月8日即將解禁，滯留武漢台胞希望能夠盡快返台，行政院長蘇貞昌說他們必須包機回來，中央流...  \n",
       "1  高雄市小港區沿海四路往大林（蒲）電廠道路，位於民進黨高雄市議員陳致中的選區，經過高雄市府重新...  \n",
       "2  新冠肺炎疫情持續沿燒，國民黨立委葉毓蘭關心防疫，今天她在臉書發文，點出監所存有口罩不足問題，...  \n",
       "3  如果高雄市長韓國瑜被罷免之後，會發生甚麼事？也是韓粉的清大博士生何坤軒大膽預測，韓國瑜未來有...  \n",
       "4  民進黨11日中執會上針對2020大選總結指出，這次大選黨部總共支出約7億元，目前仍短絀1億6...  "
      ]
     },
     "execution_count": 7,
     "metadata": {},
     "output_type": "execute_result"
    }
   ],
   "source": [
    "all_articles = pd.DataFrame(all_articles)\n",
    "all_articles.head()"
   ]
  },
  {
   "cell_type": "code",
   "execution_count": 8,
   "metadata": {},
   "outputs": [],
   "source": [
    "# Time: 2020/3/23 15:25 ~ 2020/3/25 13:26 \n",
    "# Total articles: 180\n",
    "all_articles.to_csv('政治類最新10頁文章.csv',index=False)"
   ]
  },
  {
   "cell_type": "code",
   "execution_count": 9,
   "metadata": {},
   "outputs": [
    {
     "ename": "SyntaxError",
     "evalue": "invalid syntax (<ipython-input-9-3b324b5eb332>, line 4)",
     "output_type": "error",
     "traceback": [
      "\u001b[0;36m  File \u001b[0;32m\"<ipython-input-9-3b324b5eb332>\"\u001b[0;36m, line \u001b[0;32m4\u001b[0m\n\u001b[0;31m    20181109001640-260407?chdtv\u001b[0m\n\u001b[0m                         ^\u001b[0m\n\u001b[0;31mSyntaxError\u001b[0m\u001b[0;31m:\u001b[0m invalid syntax\n"
     ]
    }
   ],
   "source": [
    "for s in all_articles.article_id:\n",
    "    re.sub('^\\d{8}', '', s)\n",
    "    \n",
    "# 20181109001640-260407?chdtv"
   ]
  },
  {
   "cell_type": "code",
   "execution_count": null,
   "metadata": {},
   "outputs": [],
   "source": []
  },
  {
   "cell_type": "code",
   "execution_count": 11,
   "metadata": {},
   "outputs": [],
   "source": [
    "for i in range(100, 9999):\n",
    "    if i < 1000:\n",
    "        try:\n",
    "            resp = requests.get(CHINA_TIMES_URL+'/realtimenews/20181109000'+str(i)+'-260407')\n",
    "            soup = BeautifulSoup(resp, 'html.parser')\n",
    "            print('Success url: ', CHINA_TIMES_URL+'/realtimenews/20181109000'+str(i)+'-260407')\n",
    "        except:\n",
    "            # print('Page not found!')\n",
    "            continue\n",
    "    else:\n",
    "        try:\n",
    "            resp = requests.get(CHINA_TIMES_URL+'/realtimenews/2018110900'+str(i)+'-260407')\n",
    "            soup = BeautifulSoup(resp, 'html.parser')\n",
    "            print('Success url: ', CHINA_TIMES_URL+'/realtimenews/2018110900'+str(i)+'-260407')\n",
    "        except:\n",
    "            # print('Page not found!')\n",
    "            continue"
   ]
  },
  {
   "cell_type": "code",
   "execution_count": null,
   "metadata": {},
   "outputs": [],
   "source": []
  }
 ],
 "metadata": {
  "kernelspec": {
   "display_name": "Python 3",
   "language": "python",
   "name": "python3"
  },
  "language_info": {
   "codemirror_mode": {
    "name": "ipython",
    "version": 3
   },
   "file_extension": ".py",
   "mimetype": "text/x-python",
   "name": "python",
   "nbconvert_exporter": "python",
   "pygments_lexer": "ipython3",
   "version": "3.7.3"
  }
 },
 "nbformat": 4,
 "nbformat_minor": 4
}
