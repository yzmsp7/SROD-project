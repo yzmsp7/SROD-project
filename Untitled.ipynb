{
 "cells": [
  {
   "cell_type": "code",
   "execution_count": 24,
   "metadata": {},
   "outputs": [],
   "source": [
    "import pandas as pd\n",
    "import numpy as np"
   ]
  },
  {
   "cell_type": "code",
   "execution_count": 25,
   "metadata": {},
   "outputs": [
    {
     "data": {
      "text/plain": [
       "0        哇勒，此人混蛋至極，叫他野蠻室友太客氣了， 靠，機掰的要死，沒有做到他的標準， 就開始罵髒話...\n",
       "1        根本就是把庾澄慶踢掉的超級星期天嘛 感覺很像是幕後有很多角力鬥爭似的 雖然哈林主持功力不佳....\n",
       "2        只能夠被動的拒絕面對 不能讓他遠離我的世界 我只好選擇把眼睛閉上 把耳朵關上 把心鎖上 無奈...\n",
       "3        幹你媽的樓下死小孩 你亂按什麼電玲你不隻到這樣很雞掰嗎 幹幹幹 幹林鄒罵吼哩驚到 害林背隔壁...\n",
       "4        常常在疑惑，到底什麼是對?什麼又是錯呢? 最近我和室友處得不太好嗯或許該說是非常差。導因於上...\n",
       "5        幹你媽的..說那什麼白目話.. 我們都沒指控你們這群色胚來台灣買春玩女人.. 現在居然還用這...\n",
       "6        : 再看看之前版主 瑞被卡司他是怎麼作的 : 他一遇到灌水文，馬上就刪，結果都可以順利過關，...\n",
       "7        彼得，恨版在PTT也算是大版之一，管理一各大版又是公眾版本來就是很難的一件事情。 當個版主更...\n",
       "8        昨天跟同學看完電影之後， 跑到追分補習班去應徵一個好久以前就填過資料的電訪工作， 處理完我就...\n",
       "9        我朋友真的很倒楣 去年大考前 遇到個交往3年的女友大背叛 每天哀聲哀調的跟我抱怨 大半夜還得...\n",
       "10       : 引述《asak (竹子 狐狸 蒲公英)》之銘言： : : 媽的 : 經過體育館看到五對情...\n",
       "11       昨天累到沒力氣黑特.... 媽的爛學校...行政處理能力比烏龜還慢... 申請一樣東西跟我說...\n",
       "12       : 好的男生都不見了。 : 唉 這位女性友人千萬不要在此哀聲嘆氣， 畢竟你才十六歲， 前途光...\n",
       "13       我同學去新光華買A片 封面與內容不符 他說醜到超越人類極限 幹 這個白痴 還跑回他去買的那家...\n",
       "14       : 這是我第一次罵幹 : 現在又傳簡訊 : 想要我跟你上床 : 你要什麼我哪樣沒買給你 : ...\n",
       "15       : 嚇的我一身冷汗幹 真是基掰 幹說到這裡我也剛好做了一個惡夢超他媽的恐怖的， 夢裡的我身處...\n",
       "16       : 等妳能自己養活自己再跟父母頂回去。 : 講現實點， : 如果食衣住行都靠父母供養還這麼不...\n",
       "17       : 引述《Mmiu (我對你徹底失望了)》之銘言： : : 很會開芭樂票是嘛？ : : 以前...\n",
       "18       早上心血來潮 想說要來洗我心愛的球鞋 先灑一些洗衣粉 放在洗臉盆裡面 加水 然後把鞋子的鞋帶...\n",
       "19       : 不公平~你娘哩~ : 氣死我啦@幹 : 一堆前3志願的學生又帥功課又好家又有錢~ : 媽...\n",
       "20       : 引述《jckh (別再叫我翻譯了啦...><)》之銘言： : : 靠...反正我們就是被...\n",
       "21       難道要來個12學分傳奇嗎 沒女人炮友寧願傳什麼曖昧簡訊也不給我用直昇機式 沒電腦硬碟他媽的電...\n",
       "22       前幾天我家的小黃叼來一份報紙 我看了之後很生氣 說什麼政府又把經濟 不成長怪罪到六 七年級的...\n",
       "23       : 第１２約她出去玩...... 還是失敗 : 我該放棄嗎？ １２， 是一個奇妙的數字。 怎...\n",
       "24       : 閉上眼睛的時候總是浮現過去種種快樂的回憶.... : 睜開眼睛的時候才發現妳早已在別人的...\n",
       "25       遙想一年前，PTT三大板JOKE SEX HATE，那是個三板鼎立的時代。 也可以說是我在P...\n",
       "26       剛滿18時 我要自己掏錢買機車 你罵我笨 等我考到汽車駕照 車就要給我開 幹麻買機車 後來又...\n",
       "27       我相信hate還是很可愛的 版主可別亂灰心唷 我想... 當大家都發洩完自己的恨液 可不可以...\n",
       "28       法客尤 雪特尤 剛睡醒 換板主? 憶昨日 不拉客 乃作文 共勉之 創榮光 復hot 但今朝 ...\n",
       "29       話說某個辦補發學生證和申請成績單證明的某處 有個非常機八的人 他常常刁難學生 今天 我回到讀...\n",
       "                               ...                        \n",
       "79444    幹 傻眼 最近是殺小？ 車禍 車壞 手機也壞 我操你媽逼 幹 為何都是我遇到這種鳥事？ 人生...\n",
       "79445    幹 大雅也太冷了吧，還在飄雨，等等是要怎麼回家ㄏㄚˋ 然後今天載乒過來都沒下雨，嘻嘻 htt...\n",
       "79446    https://i.imgur.com/BMwxrwW.jpg 幹 岡山連一家像樣的書局都沒...\n",
       "79447    外面天氣好像很糟 不小心戴隱眼睡著剛剛醒來左眼好痛 我是不是一個很容易被放棄的人啊 什麼豬=...\n",
       "79448       要買鼻過敏的藥 不然會死得很難看 幹點是 吃了以後會想睡 無可阻擋的想睡，真的很困擾 好恨 \n",
       "79449    你們知道更賺的是什麼ㄇ 飲料我用line pay付錢 卡是我媽的 發票存我的載具 中獎是我的...\n",
       "79450    躁欸 該做的事都不想動 就是一整個低落 而且還沒有原因= = 人生好難qq 喔喔所以之前煩惱...\n",
       "79451    變冷嗎 偶想要挑戰一天三萬步 o_o 現在一萬七惹 幹一次一萬三難度也粉高RRRRRR 我浪...\n",
       "79452    幹你媽 還好音樂可以隨時快轉 隨時倒轉 所以我錯過惹還能再來一次 不像人森這麼難玩 我浪費了...\n",
       "79453                        奇怪 喝完成人ㄉ熱巧可力好想睡 幹拎老蘇 又下雨 只能窩 \n",
       "79454                    靠北 有冷到欸 越睡越冷 原來是快到台北了 等等下車會冷死ㄇQQ \n",
       "79455                      手機用太多 頭痛ㄌ 但還是想繼續耍廢玩pokopoko 幹幹 \n",
       "79456    為什麼要浪費我寶貴的假日時間？ 為什麼一樣的話要不停重複？ 為什麼相同的問題要一直跳針？ 為...\n",
       "79457       要去買襪襪ㄛ 襪襪ㄅ見ㄋ 要去跑步沒襪襪真ㄉ母湯 是說我媽穿運動鞋都不穿襪子== 超詭異ㄉ \n",
       "79458    怎麼這麼難畫 今天眉峰好尖吼唷 到底要練多久才能快速地畫出好看眉毛 而且還有好多東西要買 錢...\n",
       "79459    https://i.imgur.com/WMJJ2SI.jpg https://i.imgu...\n",
       "79460    他媽der偶以為剩下一天der量偶追得完 幹 不行RRR 最慘der4偶G然想睡覺惹 他媽d...\n",
       "79461                   勞真的很討厭 炸雞弄得那麼香 害我經過門口忍不住 說好的減肥又忘了 \n",
       "79462    快完惹 爽 運動去 希望等等不會太冷 然後讓偶能追個幾集如實陳述 讚讚 我浪費了20多年的青...\n",
       "79463               狗屎 幹 超噁的 踩下去 還差點滑倒 低頭一看 喔淦是一大坨屎 感覺好噁喔 \n",
       "79464    每個女生受傷 最介意的就是留疤 剛剛看那個台詞 心有戚戚又覺得超好笑 是說 我之前車禍在腳背...\n",
       "79465    這個季節 最棒的就是外套ㄋ 話說我那天買了一件白外套 好喜歡Xdddd 穿起來意外好看ㄟ 嘻...\n",
       "79466    幹下了一天雨，濕度才68%昨天沒下雨居然90%，奇妙的一天。 https://i.imgur...\n",
       "79467    戴耳機啦靠北 懶得走回家拿了 雖然星巴克離我家很近 馬的 但又下雨又很冷 乾 嗯哼 燕麥奶是...\n",
       "79468    要騎車去多遠的地方才買得到 都要上班補習哪個時間點可以買口罩 有沒有半夜賣口罩的 一個口罩不...\n",
       "79469                              幹 >< 機掰 幹幹幹 無能為力的感覺很差欸 \n",
       "79470        免了免了 爛就是爛 可以了不用了 覺得真爛 但也沒有必要怎麼樣 因為事實就是如此 唉唉唉 \n",
       "79471    4我啦 肌白 昨天女神猜 沒讓雙國女神參與到 引起她不滿 不過那不是排名 只是老子照著原Po...\n",
       "79472    覺得冷 google了下幾度 9度 ... 9度是三小 冷到雙腳都變冰的啦 晚上這樣是要怎麼...\n",
       "79473    又下雨 又颳大風 幹 買個晚餐都像是折磨 慘 Q S \\\\ // 發財發財 W ) 發財發財...\n",
       "Name: content, Length: 79474, dtype: object"
      ]
     },
     "execution_count": 25,
     "metadata": {},
     "output_type": "execute_result"
    },
    {
     "data": {
      "text/html": [
       "<div>\n",
       "<style scoped>\n",
       "    .dataframe tbody tr th:only-of-type {\n",
       "        vertical-align: middle;\n",
       "    }\n",
       "\n",
       "    .dataframe tbody tr th {\n",
       "        vertical-align: top;\n",
       "    }\n",
       "\n",
       "    .dataframe thead th {\n",
       "        text-align: right;\n",
       "    }\n",
       "</style>\n",
       "<table border=\"1\" class=\"dataframe\">\n",
       "  <thead>\n",
       "    <tr style=\"text-align: right;\">\n",
       "      <th></th>\n",
       "      <th>author</th>\n",
       "      <th>content</th>\n",
       "      <th>date</th>\n",
       "      <th>title</th>\n",
       "      <th>url</th>\n",
       "    </tr>\n",
       "  </thead>\n",
       "  <tbody>\n",
       "    <tr>\n",
       "      <th>0</th>\n",
       "      <td>Kaohsiung85 (東帝士85超高大樓)</td>\n",
       "      <td>哇勒，此人混蛋至極，叫他野蠻室友太客氣了， 靠，機掰的要死，沒有做到他的標準， 就開始罵髒話...</td>\n",
       "      <td>2003-04-06 20:45:59</td>\n",
       "      <td>恨！我的野蠻室友</td>\n",
       "      <td>https://www.ptt.cc/bbs/Hate/M.1049633636.A.41C...</td>\n",
       "    </tr>\n",
       "    <tr>\n",
       "      <th>1</th>\n",
       "      <td>YICHANCHUNG (sodisga)</td>\n",
       "      <td>根本就是把庾澄慶踢掉的超級星期天嘛 感覺很像是幕後有很多角力鬥爭似的 雖然哈林主持功力不佳....</td>\n",
       "      <td>2003-04-06 21:35:45</td>\n",
       "      <td>什麼快樂星期天阿</td>\n",
       "      <td>https://www.ptt.cc/bbs/Hate/M.1049636067.A.255...</td>\n",
       "    </tr>\n",
       "  </tbody>\n",
       "</table>\n",
       "</div>"
      ],
      "text/plain": [
       "                    author                                            content  \\\n",
       "0  Kaohsiung85 (東帝士85超高大樓)  哇勒，此人混蛋至極，叫他野蠻室友太客氣了， 靠，機掰的要死，沒有做到他的標準， 就開始罵髒話...   \n",
       "1    YICHANCHUNG (sodisga)  根本就是把庾澄慶踢掉的超級星期天嘛 感覺很像是幕後有很多角力鬥爭似的 雖然哈林主持功力不佳....   \n",
       "\n",
       "                  date     title  \\\n",
       "0  2003-04-06 20:45:59  恨！我的野蠻室友   \n",
       "1  2003-04-06 21:35:45  什麼快樂星期天阿   \n",
       "\n",
       "                                                 url  \n",
       "0  https://www.ptt.cc/bbs/Hate/M.1049633636.A.41C...  \n",
       "1  https://www.ptt.cc/bbs/Hate/M.1049636067.A.255...  "
      ]
     },
     "execution_count": 25,
     "metadata": {},
     "output_type": "execute_result"
    }
   ],
   "source": [
    "df = pd.read_csv('data/ptt_hate_1_3990.csv')\n",
    "# df.content.astype(str, inplace=True)\n",
    "df.head(2)"
   ]
  },
  {
   "cell_type": "code",
   "execution_count": 56,
   "metadata": {},
   "outputs": [
    {
     "ename": "TypeError",
     "evalue": "'float' object is not iterable",
     "output_type": "error",
     "traceback": [
      "\u001b[0;31m---------------------------------------------------------------------------\u001b[0m",
      "\u001b[0;31mTypeError\u001b[0m                                 Traceback (most recent call last)",
      "\u001b[0;32m<ipython-input-56-2c7719292fb6>\u001b[0m in \u001b[0;36m<module>\u001b[0;34m\u001b[0m\n\u001b[1;32m      2\u001b[0m \u001b[0mbigram\u001b[0m \u001b[0;34m=\u001b[0m \u001b[0;34m[\u001b[0m\u001b[0;34m]\u001b[0m\u001b[0;34m\u001b[0m\u001b[0;34m\u001b[0m\u001b[0m\n\u001b[1;32m      3\u001b[0m \u001b[0;32mfor\u001b[0m \u001b[0mrow\u001b[0m \u001b[0;32min\u001b[0m \u001b[0mdf\u001b[0m\u001b[0;34m[\u001b[0m\u001b[0;34m~\u001b[0m\u001b[0mdf\u001b[0m\u001b[0;34m[\u001b[0m\u001b[0;34m'title'\u001b[0m\u001b[0;34m]\u001b[0m\u001b[0;34m.\u001b[0m\u001b[0mstr\u001b[0m\u001b[0;34m.\u001b[0m\u001b[0mmatch\u001b[0m\u001b[0;34m(\u001b[0m\u001b[0;34m'\\[+公告\\]+'\u001b[0m\u001b[0;34m,\u001b[0m \u001b[0mna\u001b[0m\u001b[0;34m=\u001b[0m\u001b[0;32mFalse\u001b[0m\u001b[0;34m)\u001b[0m\u001b[0;34m]\u001b[0m\u001b[0;34m.\u001b[0m\u001b[0mcontent\u001b[0m\u001b[0;34m:\u001b[0m\u001b[0;34m\u001b[0m\u001b[0;34m\u001b[0m\u001b[0m\n\u001b[0;32m----> 4\u001b[0;31m     \u001b[0mtmp\u001b[0m \u001b[0;34m=\u001b[0m \u001b[0mlist2bigram\u001b[0m\u001b[0;34m(\u001b[0m\u001b[0mlist\u001b[0m\u001b[0;34m(\u001b[0m\u001b[0mrow\u001b[0m\u001b[0;34m)\u001b[0m\u001b[0;34m)\u001b[0m\u001b[0;34m\u001b[0m\u001b[0;34m\u001b[0m\u001b[0m\n\u001b[0m\u001b[1;32m      5\u001b[0m     \u001b[0mbigram\u001b[0m\u001b[0;34m.\u001b[0m\u001b[0mappend\u001b[0m\u001b[0;34m(\u001b[0m\u001b[0mbigram2freq\u001b[0m\u001b[0;34m(\u001b[0m\u001b[0mtmp\u001b[0m\u001b[0;34m)\u001b[0m\u001b[0;34m)\u001b[0m\u001b[0;34m\u001b[0m\u001b[0;34m\u001b[0m\u001b[0m\n",
      "\u001b[0;31mTypeError\u001b[0m: 'float' object is not iterable"
     ]
    }
   ],
   "source": [
    "# filter 公告系列文章\n",
    "bigram = []\n",
    "for row in df[~df['title'].str.match('\\[+公告\\]+', na=False)].content:\n",
    "    tmp = list2bigram()\n",
    "    bigram.append(bigram2freq(tmp))"
   ]
  },
  {
   "cell_type": "code",
   "execution_count": null,
   "metadata": {},
   "outputs": [],
   "source": [
    "import re\n",
    "\n",
    "for row in df.title:\n",
    "    if re.match('\\[+公告\\]+', str(row)):\n",
    "        print(row)"
   ]
  },
  {
   "cell_type": "code",
   "execution_count": 54,
   "metadata": {},
   "outputs": [],
   "source": [
    "def list2bigram(mylist):\n",
    "    return [mylist[i:i+2] for i in range(0, len(mylist)-1)]\n",
    "\n",
    "def bigram2freqdict(mybigram):\n",
    "    d = dict()\n",
    "    for i in mybigram:\n",
    "        for (ch1, ch2) in i:\n",
    "            d[(ch1, ch2)] = d.get((ch1, ch2),0)+1\n",
    "    return d"
   ]
  },
  {
   "cell_type": "code",
   "execution_count": 19,
   "metadata": {},
   "outputs": [
    {
     "name": "stdout",
     "output_type": "stream",
     "text": [
      "{('吃', '葡'): 2, ('葡', '萄'): 4, ('萄', '不'): 2, ('不', '吐'): 2, ('吐', '葡'): 2, ('萄', '皮'): 2, ('皮', '，'): 1, ('，', '不'): 1, ('不', '吃'): 1}\n"
     ]
    }
   ],
   "source": [
    "chbigram = list2bigram(sentence)\n",
    "bigram = bigram2freqdict(chbigram)\n",
    "print(bigram)"
   ]
  },
  {
   "cell_type": "code",
   "execution_count": 20,
   "metadata": {},
   "outputs": [
    {
     "data": {
      "text/plain": [
       "[(('葡', '萄'), 4),\n",
       " (('吃', '葡'), 2),\n",
       " (('萄', '不'), 2),\n",
       " (('不', '吐'), 2),\n",
       " (('吐', '葡'), 2),\n",
       " (('萄', '皮'), 2),\n",
       " (('皮', '，'), 1),\n",
       " (('，', '不'), 1),\n",
       " (('不', '吃'), 1)]"
      ]
     },
     "execution_count": 20,
     "metadata": {},
     "output_type": "execute_result"
    }
   ],
   "source": [
    "from operator import itemgetter\n",
    "\n",
    "sorted(bigram.items(), key=itemgetter(1), reverse=True)"
   ]
  },
  {
   "cell_type": "code",
   "execution_count": 21,
   "metadata": {},
   "outputs": [],
   "source": [
    "def report(freq_list):\n",
    "    chs = str()\n",
    "    print('Char(s)\\t Count')\n",
    "    print('===============')\n",
    "    for (token,num) in freq_list:\n",
    "        for ch in token:\n",
    "            chs = chs+ch\n",
    "        print(chs, '\\t', num)\n",
    "        chs = ''\n",
    "    \n",
    "    return"
   ]
  },
  {
   "cell_type": "code",
   "execution_count": 67,
   "metadata": {},
   "outputs": [],
   "source": [
    "ch = []\n",
    "for i in range(len(df)):\n",
    "    ch.append(list2bigram(remove_punctuation(str(df.content[i]))))\n",
    "    \n",
    "output_bigram = bigram2freqdict(ch)\n",
    "output_bigram = sorted(output_bigram.items(), key=itemgetter(1), reverse=True)"
   ]
  },
  {
   "cell_type": "code",
   "execution_count": 66,
   "metadata": {},
   "outputs": [],
   "source": [
    "def remove_punctuation(line):\n",
    "    rule = re.compile(u\"[^\\u4e00-\\u9fa5]\")\n",
    "    line = rule.sub('', line)\n",
    "    return line"
   ]
  },
  {
   "cell_type": "code",
   "execution_count": 68,
   "metadata": {},
   "outputs": [
    {
     "name": "stdout",
     "output_type": "stream",
     "text": [
      "[(('幹', '幹'), 67286), (('什', '麼'), 37091), (('文', '章'), 34144), (('水', '桶'), 33422), (('一', '個'), 30973), (('真', '的'), 28417), (('沒', '有'), 25177), (('知', '道'), 25011), (('自', '己'), 24723), (('時', '間'), 24433)]\n"
     ]
    }
   ],
   "source": [
    "print(output_bigram[:10])"
   ]
  },
  {
   "cell_type": "code",
   "execution_count": null,
   "metadata": {},
   "outputs": [],
   "source": []
  },
  {
   "cell_type": "code",
   "execution_count": null,
   "metadata": {},
   "outputs": [],
   "source": []
  }
 ],
 "metadata": {
  "kernelspec": {
   "display_name": "Python 3",
   "language": "python",
   "name": "python3"
  },
  "language_info": {
   "codemirror_mode": {
    "name": "ipython",
    "version": 3
   },
   "file_extension": ".py",
   "mimetype": "text/x-python",
   "name": "python",
   "nbconvert_exporter": "python",
   "pygments_lexer": "ipython3",
   "version": "3.7.3"
  }
 },
 "nbformat": 4,
 "nbformat_minor": 4
}
