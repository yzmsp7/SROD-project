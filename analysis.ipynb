{
 "cells": [
  {
   "cell_type": "code",
   "execution_count": 48,
   "metadata": {},
   "outputs": [
    {
     "data": {
      "text/plain": [
       "(79474, 5)"
      ]
     },
     "execution_count": 48,
     "metadata": {},
     "output_type": "execute_result"
    }
   ],
   "source": [
    "import pandas as pd\n",
    "\n",
    "df = pd.read_csv('data/ptt_hate_1_3990.csv')\n",
    "df.shape"
   ]
  },
  {
   "cell_type": "code",
   "execution_count": 69,
   "metadata": {},
   "outputs": [
    {
     "data": {
      "text/html": [
       "<div>\n",
       "<style scoped>\n",
       "    .dataframe tbody tr th:only-of-type {\n",
       "        vertical-align: middle;\n",
       "    }\n",
       "\n",
       "    .dataframe tbody tr th {\n",
       "        vertical-align: top;\n",
       "    }\n",
       "\n",
       "    .dataframe thead th {\n",
       "        text-align: right;\n",
       "    }\n",
       "</style>\n",
       "<table border=\"1\" class=\"dataframe\">\n",
       "  <thead>\n",
       "    <tr style=\"text-align: right;\">\n",
       "      <th></th>\n",
       "      <th>author</th>\n",
       "      <th>content</th>\n",
       "      <th>date</th>\n",
       "      <th>title</th>\n",
       "      <th>url</th>\n",
       "    </tr>\n",
       "  </thead>\n",
       "  <tbody>\n",
       "    <tr>\n",
       "      <th>0</th>\n",
       "      <td>Kaohsiung85 (東帝士85超高大樓)</td>\n",
       "      <td>哇勒，此人混蛋至極，叫他野蠻室友太客氣了， 靠，機掰的要死，沒有做到他的標準， 就開始罵髒話...</td>\n",
       "      <td>2003-04-06 20:45:59</td>\n",
       "      <td>恨！我的野蠻室友</td>\n",
       "      <td>https://www.ptt.cc/bbs/Hate/M.1049633636.A.41C...</td>\n",
       "    </tr>\n",
       "    <tr>\n",
       "      <th>1</th>\n",
       "      <td>YICHANCHUNG (sodisga)</td>\n",
       "      <td>根本就是把庾澄慶踢掉的超級星期天嘛 感覺很像是幕後有很多角力鬥爭似的 雖然哈林主持功力不佳....</td>\n",
       "      <td>2003-04-06 21:35:45</td>\n",
       "      <td>什麼快樂星期天阿</td>\n",
       "      <td>https://www.ptt.cc/bbs/Hate/M.1049636067.A.255...</td>\n",
       "    </tr>\n",
       "    <tr>\n",
       "      <th>2</th>\n",
       "      <td>Evance (嘆)</td>\n",
       "      <td>只能夠被動的拒絕面對 不能讓他遠離我的世界 我只好選擇把眼睛閉上 把耳朵關上 把心鎖上 無奈...</td>\n",
       "      <td>2003-04-06 21:51:59</td>\n",
       "      <td>我好懦弱</td>\n",
       "      <td>https://www.ptt.cc/bbs/Hate/M.1049636988.A.042...</td>\n",
       "    </tr>\n",
       "    <tr>\n",
       "      <th>3</th>\n",
       "      <td>lightthefire (我以為我的以為)</td>\n",
       "      <td>幹你媽的樓下死小孩 你亂按什麼電玲你不隻到這樣很雞掰嗎 幹幹幹 幹林鄒罵吼哩驚到 害林背隔壁...</td>\n",
       "      <td>2003-04-06 22:18:11</td>\n",
       "      <td>幹你娘基八亂按什麼電玲啊幹</td>\n",
       "      <td>https://www.ptt.cc/bbs/Hate/M.1049638506.A.993...</td>\n",
       "    </tr>\n",
       "    <tr>\n",
       "      <th>4</th>\n",
       "      <td>geju (逝水)</td>\n",
       "      <td>常常在疑惑，到底什麼是對?什麼又是錯呢? 最近我和室友處得不太好嗯或許該說是非常差。導因於上...</td>\n",
       "      <td>2003-05-18 10:15:18</td>\n",
       "      <td>[問題] 來自朋友的傷害果然很痛</td>\n",
       "      <td>https://www.ptt.cc/bbs/Hate/M.1053224089.A.71D...</td>\n",
       "    </tr>\n",
       "  </tbody>\n",
       "</table>\n",
       "</div>"
      ],
      "text/plain": [
       "                    author                                            content  \\\n",
       "0  Kaohsiung85 (東帝士85超高大樓)  哇勒，此人混蛋至極，叫他野蠻室友太客氣了， 靠，機掰的要死，沒有做到他的標準， 就開始罵髒話...   \n",
       "1    YICHANCHUNG (sodisga)  根本就是把庾澄慶踢掉的超級星期天嘛 感覺很像是幕後有很多角力鬥爭似的 雖然哈林主持功力不佳....   \n",
       "2               Evance (嘆)  只能夠被動的拒絕面對 不能讓他遠離我的世界 我只好選擇把眼睛閉上 把耳朵關上 把心鎖上 無奈...   \n",
       "3   lightthefire (我以為我的以為)  幹你媽的樓下死小孩 你亂按什麼電玲你不隻到這樣很雞掰嗎 幹幹幹 幹林鄒罵吼哩驚到 害林背隔壁...   \n",
       "4                geju (逝水)  常常在疑惑，到底什麼是對?什麼又是錯呢? 最近我和室友處得不太好嗯或許該說是非常差。導因於上...   \n",
       "\n",
       "                  date             title  \\\n",
       "0  2003-04-06 20:45:59          恨！我的野蠻室友   \n",
       "1  2003-04-06 21:35:45          什麼快樂星期天阿   \n",
       "2  2003-04-06 21:51:59              我好懦弱   \n",
       "3  2003-04-06 22:18:11     幹你娘基八亂按什麼電玲啊幹   \n",
       "4  2003-05-18 10:15:18  [問題] 來自朋友的傷害果然很痛   \n",
       "\n",
       "                                                 url  \n",
       "0  https://www.ptt.cc/bbs/Hate/M.1049633636.A.41C...  \n",
       "1  https://www.ptt.cc/bbs/Hate/M.1049636067.A.255...  \n",
       "2  https://www.ptt.cc/bbs/Hate/M.1049636988.A.042...  \n",
       "3  https://www.ptt.cc/bbs/Hate/M.1049638506.A.993...  \n",
       "4  https://www.ptt.cc/bbs/Hate/M.1053224089.A.71D...  "
      ]
     },
     "execution_count": 69,
     "metadata": {},
     "output_type": "execute_result"
    }
   ],
   "source": [
    "df.head()"
   ]
  },
  {
   "cell_type": "code",
   "execution_count": 67,
   "metadata": {},
   "outputs": [],
   "source": [
    "import jieba\n",
    "from jieba import analyse\n",
    "\n",
    "jieba.analyse.set_stop_words()"
   ]
  },
  {
   "cell_type": "code",
   "execution_count": 70,
   "metadata": {},
   "outputs": [
    {
     "name": "stderr",
     "output_type": "stream",
     "text": [
      "Building prefix dict from the default dictionary ...\n",
      "Dumping model to file cache /var/folders/h8/ylsrbc5x0310m99y2nf956400000gn/T/jieba.cache\n",
      "Loading model cost 0.813 seconds.\n",
      "Prefix dict has been built succesfully.\n"
     ]
    },
    {
     "ename": "NameError",
     "evalue": "name 'stopwords' is not defined",
     "output_type": "error",
     "traceback": [
      "\u001b[0;31m---------------------------------------------------------------------------\u001b[0m",
      "\u001b[0;31mNameError\u001b[0m                                 Traceback (most recent call last)",
      "\u001b[0;32m<ipython-input-70-7a4fed42825a>\u001b[0m in \u001b[0;36m<module>\u001b[0;34m\u001b[0m\n\u001b[1;32m      6\u001b[0m     \u001b[0;32mfor\u001b[0m \u001b[0mword\u001b[0m \u001b[0;32min\u001b[0m \u001b[0mwords\u001b[0m\u001b[0;34m:\u001b[0m\u001b[0;34m\u001b[0m\u001b[0;34m\u001b[0m\u001b[0m\n\u001b[1;32m      7\u001b[0m         \u001b[0;31m#停用词判断，如果当前的关键词不在停用词库中才进行记录\u001b[0m\u001b[0;34m\u001b[0m\u001b[0;34m\u001b[0m\u001b[0;34m\u001b[0m\u001b[0m\n\u001b[0;32m----> 8\u001b[0;31m         \u001b[0;32mif\u001b[0m \u001b[0mword\u001b[0m \u001b[0;32mnot\u001b[0m \u001b[0;32min\u001b[0m \u001b[0mstopwords\u001b[0m\u001b[0;34m:\u001b[0m\u001b[0;34m\u001b[0m\u001b[0;34m\u001b[0m\u001b[0m\n\u001b[0m\u001b[1;32m      9\u001b[0m             \u001b[0;31m# 记录全局分词\u001b[0m\u001b[0;34m\u001b[0m\u001b[0;34m\u001b[0m\u001b[0;34m\u001b[0m\u001b[0m\n\u001b[1;32m     10\u001b[0m             \u001b[0msegments\u001b[0m\u001b[0;34m.\u001b[0m\u001b[0mappend\u001b[0m\u001b[0;34m(\u001b[0m\u001b[0;34m{\u001b[0m\u001b[0;34m'word'\u001b[0m\u001b[0;34m:\u001b[0m\u001b[0mword\u001b[0m\u001b[0;34m,\u001b[0m \u001b[0;34m'count'\u001b[0m\u001b[0;34m:\u001b[0m\u001b[0;36m1\u001b[0m\u001b[0;34m}\u001b[0m\u001b[0;34m)\u001b[0m\u001b[0;34m\u001b[0m\u001b[0;34m\u001b[0m\u001b[0m\n",
      "\u001b[0;31mNameError\u001b[0m: name 'stopwords' is not defined"
     ]
    }
   ],
   "source": [
    "for index, row in df.iterrows():\n",
    "    content = row[1]\n",
    "    words = jieba.cut(content)\n",
    "    splitedStr = ''\n",
    "    \n",
    "    for word in words:\n",
    "        #停用词判断，如果当前的关键词不在停用词库中才进行记录\n",
    "        if word not in stopwords:\n",
    "            # 记录全局分词\n",
    "            segments.append({'word':word, 'count':1})\n",
    "            splitedStr += word + ' '"
   ]
  },
  {
   "cell_type": "code",
   "execution_count": null,
   "metadata": {},
   "outputs": [],
   "source": []
  }
 ],
 "metadata": {
  "kernelspec": {
   "display_name": "Python 3",
   "language": "python",
   "name": "python3"
  },
  "language_info": {
   "codemirror_mode": {
    "name": "ipython",
    "version": 3
   },
   "file_extension": ".py",
   "mimetype": "text/x-python",
   "name": "python",
   "nbconvert_exporter": "python",
   "pygments_lexer": "ipython3",
   "version": "3.7.3"
  }
 },
 "nbformat": 4,
 "nbformat_minor": 2
}
