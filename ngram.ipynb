{
 "cells": [
  {
   "cell_type": "code",
   "execution_count": 1,
   "metadata": {},
   "outputs": [
    {
     "data": {
      "text/html": [
       "<div>\n",
       "<style scoped>\n",
       "    .dataframe tbody tr th:only-of-type {\n",
       "        vertical-align: middle;\n",
       "    }\n",
       "\n",
       "    .dataframe tbody tr th {\n",
       "        vertical-align: top;\n",
       "    }\n",
       "\n",
       "    .dataframe thead th {\n",
       "        text-align: right;\n",
       "    }\n",
       "</style>\n",
       "<table border=\"1\" class=\"dataframe\">\n",
       "  <thead>\n",
       "    <tr style=\"text-align: right;\">\n",
       "      <th></th>\n",
       "      <th>author</th>\n",
       "      <th>content</th>\n",
       "      <th>date</th>\n",
       "      <th>title</th>\n",
       "      <th>url</th>\n",
       "    </tr>\n",
       "  </thead>\n",
       "  <tbody>\n",
       "    <tr>\n",
       "      <th>0</th>\n",
       "      <td>Kaohsiung85 (東帝士85超高大樓)</td>\n",
       "      <td>哇勒，此人混蛋至極，叫他野蠻室友太客氣了， 靠，機掰的要死，沒有做到他的標準， 就開始罵髒話...</td>\n",
       "      <td>2003-04-06 20:45:59</td>\n",
       "      <td>恨！我的野蠻室友</td>\n",
       "      <td>https://www.ptt.cc/bbs/Hate/M.1049633636.A.41C...</td>\n",
       "    </tr>\n",
       "    <tr>\n",
       "      <th>1</th>\n",
       "      <td>YICHANCHUNG (sodisga)</td>\n",
       "      <td>根本就是把庾澄慶踢掉的超級星期天嘛 感覺很像是幕後有很多角力鬥爭似的 雖然哈林主持功力不佳....</td>\n",
       "      <td>2003-04-06 21:35:45</td>\n",
       "      <td>什麼快樂星期天阿</td>\n",
       "      <td>https://www.ptt.cc/bbs/Hate/M.1049636067.A.255...</td>\n",
       "    </tr>\n",
       "    <tr>\n",
       "      <th>2</th>\n",
       "      <td>Evance (嘆)</td>\n",
       "      <td>只能夠被動的拒絕面對 不能讓他遠離我的世界 我只好選擇把眼睛閉上 把耳朵關上 把心鎖上 無奈...</td>\n",
       "      <td>2003-04-06 21:51:59</td>\n",
       "      <td>我好懦弱</td>\n",
       "      <td>https://www.ptt.cc/bbs/Hate/M.1049636988.A.042...</td>\n",
       "    </tr>\n",
       "    <tr>\n",
       "      <th>3</th>\n",
       "      <td>lightthefire (我以為我的以為)</td>\n",
       "      <td>幹你媽的樓下死小孩 你亂按什麼電玲你不隻到這樣很雞掰嗎 幹幹幹 幹林鄒罵吼哩驚到 害林背隔壁...</td>\n",
       "      <td>2003-04-06 22:18:11</td>\n",
       "      <td>幹你娘基八亂按什麼電玲啊幹</td>\n",
       "      <td>https://www.ptt.cc/bbs/Hate/M.1049638506.A.993...</td>\n",
       "    </tr>\n",
       "    <tr>\n",
       "      <th>4</th>\n",
       "      <td>geju (逝水)</td>\n",
       "      <td>常常在疑惑，到底什麼是對?什麼又是錯呢? 最近我和室友處得不太好嗯或許該說是非常差。導因於上...</td>\n",
       "      <td>2003-05-18 10:15:18</td>\n",
       "      <td>[問題] 來自朋友的傷害果然很痛</td>\n",
       "      <td>https://www.ptt.cc/bbs/Hate/M.1053224089.A.71D...</td>\n",
       "    </tr>\n",
       "  </tbody>\n",
       "</table>\n",
       "</div>"
      ],
      "text/plain": [
       "                    author                                            content  \\\n",
       "0  Kaohsiung85 (東帝士85超高大樓)  哇勒，此人混蛋至極，叫他野蠻室友太客氣了， 靠，機掰的要死，沒有做到他的標準， 就開始罵髒話...   \n",
       "1    YICHANCHUNG (sodisga)  根本就是把庾澄慶踢掉的超級星期天嘛 感覺很像是幕後有很多角力鬥爭似的 雖然哈林主持功力不佳....   \n",
       "2               Evance (嘆)  只能夠被動的拒絕面對 不能讓他遠離我的世界 我只好選擇把眼睛閉上 把耳朵關上 把心鎖上 無奈...   \n",
       "3   lightthefire (我以為我的以為)  幹你媽的樓下死小孩 你亂按什麼電玲你不隻到這樣很雞掰嗎 幹幹幹 幹林鄒罵吼哩驚到 害林背隔壁...   \n",
       "4                geju (逝水)  常常在疑惑，到底什麼是對?什麼又是錯呢? 最近我和室友處得不太好嗯或許該說是非常差。導因於上...   \n",
       "\n",
       "                  date             title  \\\n",
       "0  2003-04-06 20:45:59          恨！我的野蠻室友   \n",
       "1  2003-04-06 21:35:45          什麼快樂星期天阿   \n",
       "2  2003-04-06 21:51:59              我好懦弱   \n",
       "3  2003-04-06 22:18:11     幹你娘基八亂按什麼電玲啊幹   \n",
       "4  2003-05-18 10:15:18  [問題] 來自朋友的傷害果然很痛   \n",
       "\n",
       "                                                 url  \n",
       "0  https://www.ptt.cc/bbs/Hate/M.1049633636.A.41C...  \n",
       "1  https://www.ptt.cc/bbs/Hate/M.1049636067.A.255...  \n",
       "2  https://www.ptt.cc/bbs/Hate/M.1049636988.A.042...  \n",
       "3  https://www.ptt.cc/bbs/Hate/M.1049638506.A.993...  \n",
       "4  https://www.ptt.cc/bbs/Hate/M.1053224089.A.71D...  "
      ]
     },
     "execution_count": 1,
     "metadata": {},
     "output_type": "execute_result"
    }
   ],
   "source": [
    "import pandas as pd\n",
    "import re\n",
    "from operator import itemgetter\n",
    "\n",
    "df = pd.read_csv('data/ptt_hate_1_3990.csv')\n",
    "df.content = df.content.astype(str)\n",
    "df.head()\n",
    "\n",
    "noannoun = df[~df['title'].str.match('\\[+公告\\]+', na=False)]"
   ]
  },
  {
   "cell_type": "code",
   "execution_count": 2,
   "metadata": {},
   "outputs": [],
   "source": [
    "def removePunctuation(line):\n",
    "    # 只保留中文\n",
    "    rule = re.compile(u\"[^\\u4e00-\\u9fa5]\")\n",
    "    line = rule.sub('', line)\n",
    "    return line"
   ]
  },
  {
   "cell_type": "code",
   "execution_count": 3,
   "metadata": {},
   "outputs": [],
   "source": [
    "def doBigram(mylist):\n",
    "    d = dict()\n",
    "    bi_list = [mylist[i:i+2] for i in range(0, len(mylist)-1)]\n",
    "    for (c1, c2) in bi_list:\n",
    "        d[(c1,c2)] = d.get((c1,c2),0)+1\n",
    "    \n",
    "    return sorted(d.items(), key=itemgetter(1), reverse=True)"
   ]
  },
  {
   "cell_type": "code",
   "execution_count": 4,
   "metadata": {},
   "outputs": [],
   "source": [
    "def doTrigram(mylist):\n",
    "    d = dict()\n",
    "    bi_list = [mylist[i:i+3] for i in range(0, len(mylist)-2)]\n",
    "    for (c1,c2,c3) in bi_list:\n",
    "        d[(c1,c2,c3)] = d.get((c1,c2,c3),0)+1\n",
    "    \n",
    "    return sorted(d.items(), key=itemgetter(1), reverse=True)"
   ]
  },
  {
   "cell_type": "code",
   "execution_count": 5,
   "metadata": {},
   "outputs": [],
   "source": [
    "def gram4(mylist):\n",
    "    d = dict()\n",
    "    bi_list = [mylist[i:i+4] for i in range(0, len(mylist)-3)]\n",
    "    for (c1,c2,c3,c4) in bi_list:\n",
    "        d[(c1,c2,c3,c4)] = d.get((c1,c2,c3,c4),0)+1\n",
    "    \n",
    "    return sorted(d.items(), key=itemgetter(1), reverse=True)"
   ]
  },
  {
   "cell_type": "code",
   "execution_count": 6,
   "metadata": {},
   "outputs": [],
   "source": [
    "contents = [s for s in noannoun.content]\n",
    "contents = ' '.join([str(s) for s in contents]) \n",
    "bigram = doBigram(removePunctuation(contents))\n",
    "trigram = doTrigram(removePunctuation(contents))\n",
    "gram4 = gram4(removePunctuation(contents))\n",
    "\n",
    "print('Bigram: ', bigram[:10])\n",
    "print('Trigram: ', trigram[:10])\n",
    "print('4 gram: ', gram4[:10])"
   ]
  },
  {
   "cell_type": "code",
   "execution_count": 19,
   "metadata": {},
   "outputs": [],
   "source": [
    "chs = \"\"\n",
    "with open(\"gram2.txt\", \"a\") as f:\n",
    "    for (token, num) in bigram:\n",
    "        if num >= 50:\n",
    "            for ch in token:\n",
    "                chs = chs + ch\n",
    "            _ = f.write(chs + \",\" + str(num) + \"\\n\")\n",
    "            chs = \"\""
   ]
  },
  {
   "cell_type": "code",
   "execution_count": 20,
   "metadata": {},
   "outputs": [],
   "source": [
    "chs = \"\"\n",
    "with open(\"gram3.txt\", \"a\") as f:\n",
    "    for (token, num) in trigram:\n",
    "        if num >= 50:\n",
    "            for ch in token:\n",
    "                chs = chs + ch\n",
    "            _ = f.write(chs + \",\" + str(num) + \"\\n\")\n",
    "            chs = \"\""
   ]
  },
  {
   "cell_type": "code",
   "execution_count": 21,
   "metadata": {},
   "outputs": [],
   "source": [
    "chs = \"\"\n",
    "with open(\"gram4.txt\", \"a\") as f:\n",
    "    for (token, num) in gram4:\n",
    "        if num >= 50:\n",
    "            for ch in token:\n",
    "                chs = chs + ch\n",
    "            _ = f.write(chs + \",\" + str(num) + \"\\n\")\n",
    "            chs = \"\""
   ]
  },
  {
   "cell_type": "code",
   "execution_count": 8,
   "metadata": {},
   "outputs": [
    {
     "data": {
      "text/plain": [
       "Year    2.0\n",
       "Num     2.4\n",
       "dtype: float64"
      ]
     },
     "execution_count": 8,
     "metadata": {},
     "output_type": "execute_result"
    }
   ],
   "source": [
    "import pandas as pd\n",
    "df = pd.DataFrame([[2000, 1.5],\n",
    "                   [2001, 3.6],\n",
    "                   [2002, 1.2]],\n",
    "                 columns = ['Year', 'Num'])\n",
    "\n",
    "df[['Year', 'Num']].apply(lambda x: x.max()-x.min(), axis=0)"
   ]
  },
  {
   "cell_type": "code",
   "execution_count": null,
   "metadata": {},
   "outputs": [],
   "source": []
  }
 ],
 "metadata": {
  "kernelspec": {
   "display_name": "Python 3",
   "language": "python",
   "name": "python3"
  },
  "language_info": {
   "codemirror_mode": {
    "name": "ipython",
    "version": 3
   },
   "file_extension": ".py",
   "mimetype": "text/x-python",
   "name": "python",
   "nbconvert_exporter": "python",
   "pygments_lexer": "ipython3",
   "version": "3.7.3"
  }
 },
 "nbformat": 4,
 "nbformat_minor": 4
}
